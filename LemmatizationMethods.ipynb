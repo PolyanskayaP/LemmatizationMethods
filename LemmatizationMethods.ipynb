{
  "nbformat": 4,
  "nbformat_minor": 0,
  "metadata": {
    "colab": {
      "provenance": [],
      "collapsed_sections": [
        "YsV6pcXFH184",
        "knzSpF5EM2yP",
        "sdjse-COZNgu",
        "SM84D77mf0qR",
        "k_BWPk5osRkN"
      ],
      "authorship_tag": "ABX9TyPDEnKrSmAIdq9UJptVEKwB",
      "include_colab_link": true
    },
    "kernelspec": {
      "name": "python3",
      "display_name": "Python 3"
    },
    "language_info": {
      "name": "python"
    }
  },
  "cells": [
    {
      "cell_type": "markdown",
      "metadata": {
        "id": "view-in-github",
        "colab_type": "text"
      },
      "source": [
        "<a href=\"https://colab.research.google.com/github/PolyanskayaP/LemmatizationMethods/blob/main/LemmatizationMethods.ipynb\" target=\"_parent\"><img src=\"https://colab.research.google.com/assets/colab-badge.svg\" alt=\"Open In Colab\"/></a>"
      ]
    },
    {
      "cell_type": "markdown",
      "source": [
        "https://ru.stackoverflow.com/questions/1187946/%D0%9F%D0%BE%D1%81%D0%BE%D0%B2%D0%B5%D1%82%D1%83%D0%B9%D1%82%D0%B5-%D0%9B%D0%B5%D0%BC%D0%BC%D0%B0%D1%82%D0%B8%D0%B7%D0%B0%D1%82%D0%BE%D1%80-%D1%85%D0%BE%D1%80%D0%BE%D1%88%D0%BE-%D1%80%D0%B0%D0%B7%D0%B1%D0%B8%D1%80%D0%B0%D1%8E%D1%89%D0%B8%D0%B9-%D1%84%D0%B0%D0%BC%D0%B8%D0%BB%D0%B8%D0%B8-python"
      ],
      "metadata": {
        "id": "gxjdqs8NVws8"
      }
    },
    {
      "cell_type": "markdown",
      "source": [
        "## Spacy"
      ],
      "metadata": {
        "id": "YsV6pcXFH184"
      }
    },
    {
      "cell_type": "code",
      "source": [
        "import spacy\n",
        "sample_sentences = \"Динамика возобновления роста случаев коронавируса COVID-19 в мире является поводом для серьезной обеспокоенности – признал преcс-секретарь президента России Дмитрий Песков.\"\n",
        "if __name__ == '__main__':\n",
        "    nlp = spacy.load('ru2', disable=['tagger', 'parser', 'NER'])\n",
        "    nlp.add_pipe(nlp.create_pipe('sentencizer'), first=True)\n",
        "    doc = nlp(sample_sentences)\n",
        "    for s in doc.sents:\n",
        "        print(list(['lemma \"{}\" from text \"{}\"'.format(t.lemma_, t.text) for t in s]))"
      ],
      "metadata": {
        "id": "LSGz1TyDV4PI"
      },
      "execution_count": null,
      "outputs": []
    },
    {
      "cell_type": "code",
      "source": [
        "!python -m spacy download en_core_web_lg"
      ],
      "metadata": {
        "id": "Abp2teETFMNf"
      },
      "execution_count": null,
      "outputs": []
    },
    {
      "cell_type": "code",
      "execution_count": null,
      "metadata": {
        "colab": {
          "base_uri": "https://localhost:8080/"
        },
        "id": "KIAglMlnE5yj",
        "outputId": "8ea1bc93-b9d7-4aec-87cf-123b2c3ad7f1"
      },
      "outputs": [
        {
          "output_type": "stream",
          "name": "stdout",
          "text": [
            "['Python', 'be', 'the', 'great', 'language', 'in', 'the', 'world']\n"
          ]
        }
      ],
      "source": [
        "import spacy\n",
        "\n",
        "# keeping only tagger component needed for lemmatization\n",
        "nlp = spacy.load('en_core_web_lg')\n",
        "\n",
        "my_str = 'Python is the greatest language in the world'\n",
        "\n",
        "doc = nlp(my_str)\n",
        "words_lemmas_list = [token.lemma_ for token in doc]\n",
        "print(words_lemmas_list)"
      ]
    },
    {
      "cell_type": "code",
      "source": [
        "import spacy\n",
        "from spacy import load\n",
        "from spacy.lang.ru.examples import sentences\n",
        "from spacy.lang.ru import Russian\n",
        "\n",
        "nlp = Russian()\n",
        "\n",
        "doc = nlp(u\"Ёж диспетчер на праздник стал ужом и виноградными косточками а лаборанты ушли в отпуск\")\n",
        "# doc = nlp(u\"If only you knew and be mine if I could take the stars and write your name\")\n",
        "\n",
        "for token in doc:\n",
        "    print(token, token.lemma, token.lemma_)"
      ],
      "metadata": {
        "id": "6d1bqf4HIhp5"
      },
      "execution_count": null,
      "outputs": []
    },
    {
      "cell_type": "markdown",
      "source": [
        "## Pymorphy2 ✅"
      ],
      "metadata": {
        "id": "knzSpF5EM2yP"
      }
    },
    {
      "cell_type": "code",
      "source": [
        "!pip install pymorphy2"
      ],
      "metadata": {
        "id": "7Dz4OPl2Q4zI"
      },
      "execution_count": null,
      "outputs": []
    },
    {
      "cell_type": "code",
      "source": [
        "import nltk\n",
        "nltk.download('punkt')"
      ],
      "metadata": {
        "colab": {
          "base_uri": "https://localhost:8080/"
        },
        "id": "Bq1k0dShSzXK",
        "outputId": "0aec2407-ae21-4ae3-a3e6-c07922c9e2ff"
      },
      "execution_count": null,
      "outputs": [
        {
          "output_type": "stream",
          "name": "stderr",
          "text": [
            "[nltk_data] Downloading package punkt to /root/nltk_data...\n",
            "[nltk_data]   Package punkt is already up-to-date!\n"
          ]
        },
        {
          "output_type": "execute_result",
          "data": {
            "text/plain": [
              "True"
            ]
          },
          "metadata": {},
          "execution_count": 15
        }
      ]
    },
    {
      "cell_type": "code",
      "source": [
        "from nltk import sent_tokenize, word_tokenize, regexp_tokenize\n",
        "from pymorphy2 import MorphAnalyzer\n",
        "\n",
        "def tokenize_n_normalize(sent, pat=r\"(?u)\\b\\w\\w+\\b\", morph=MorphAnalyzer()):\n",
        "    return [morph.parse(tok)[0].normal_form\n",
        "            for tok in regexp_tokenize(sent, pat)]\n",
        "\n",
        "\n",
        "text = \"\"\"Провел токеннизацию большого текста, теперь пытаюсь подать эти строки на проведение лемматизации. Лемматизацию провожу с помощью pymorphy2, библиотека принимает только слово. Не могу понять как подать предложение по слову, но так чтобы он сохранил мне все в dataframe так же по предложениям.\"\"\"\n",
        "\n",
        "import pandas as pd\n",
        "\n",
        "df = pd.DataFrame({\n",
        "  \"sent\": [sent for sent in sent_tokenize(text)]\n",
        "})\n",
        "\n",
        "df[\"sent\"] = df[\"sent\"].map(lambda x: \" \".join(tokenize_n_normalize(x)))\n",
        "df"
      ],
      "metadata": {
        "colab": {
          "base_uri": "https://localhost:8080/",
          "height": 381
        },
        "id": "eqYQlmqtNCF4",
        "outputId": "1a85ddf2-9266-45fd-bf3f-28431676faac"
      },
      "execution_count": null,
      "outputs": [
        {
          "output_type": "execute_result",
          "data": {
            "text/plain": [
              "                                                sent\n",
              "0  провести токеннизация большой текст теперь пыт...\n",
              "1  лемматизация проводить помощь pymorphy2 библио...\n",
              "2  не мочь понять как подать предложение по слово..."
            ],
            "text/html": [
              "\n",
              "\n",
              "  <div id=\"df-a8a6f51b-508c-4555-aee6-9194b3591344\">\n",
              "    <div class=\"colab-df-container\">\n",
              "      <div>\n",
              "<style scoped>\n",
              "    .dataframe tbody tr th:only-of-type {\n",
              "        vertical-align: middle;\n",
              "    }\n",
              "\n",
              "    .dataframe tbody tr th {\n",
              "        vertical-align: top;\n",
              "    }\n",
              "\n",
              "    .dataframe thead th {\n",
              "        text-align: right;\n",
              "    }\n",
              "</style>\n",
              "<table border=\"1\" class=\"dataframe\">\n",
              "  <thead>\n",
              "    <tr style=\"text-align: right;\">\n",
              "      <th></th>\n",
              "      <th>sent</th>\n",
              "    </tr>\n",
              "  </thead>\n",
              "  <tbody>\n",
              "    <tr>\n",
              "      <th>0</th>\n",
              "      <td>провести токеннизация большой текст теперь пыт...</td>\n",
              "    </tr>\n",
              "    <tr>\n",
              "      <th>1</th>\n",
              "      <td>лемматизация проводить помощь pymorphy2 библио...</td>\n",
              "    </tr>\n",
              "    <tr>\n",
              "      <th>2</th>\n",
              "      <td>не мочь понять как подать предложение по слово...</td>\n",
              "    </tr>\n",
              "  </tbody>\n",
              "</table>\n",
              "</div>\n",
              "      <button class=\"colab-df-convert\" onclick=\"convertToInteractive('df-a8a6f51b-508c-4555-aee6-9194b3591344')\"\n",
              "              title=\"Convert this dataframe to an interactive table.\"\n",
              "              style=\"display:none;\">\n",
              "\n",
              "  <svg xmlns=\"http://www.w3.org/2000/svg\" height=\"24px\"viewBox=\"0 0 24 24\"\n",
              "       width=\"24px\">\n",
              "    <path d=\"M0 0h24v24H0V0z\" fill=\"none\"/>\n",
              "    <path d=\"M18.56 5.44l.94 2.06.94-2.06 2.06-.94-2.06-.94-.94-2.06-.94 2.06-2.06.94zm-11 1L8.5 8.5l.94-2.06 2.06-.94-2.06-.94L8.5 2.5l-.94 2.06-2.06.94zm10 10l.94 2.06.94-2.06 2.06-.94-2.06-.94-.94-2.06-.94 2.06-2.06.94z\"/><path d=\"M17.41 7.96l-1.37-1.37c-.4-.4-.92-.59-1.43-.59-.52 0-1.04.2-1.43.59L10.3 9.45l-7.72 7.72c-.78.78-.78 2.05 0 2.83L4 21.41c.39.39.9.59 1.41.59.51 0 1.02-.2 1.41-.59l7.78-7.78 2.81-2.81c.8-.78.8-2.07 0-2.86zM5.41 20L4 18.59l7.72-7.72 1.47 1.35L5.41 20z\"/>\n",
              "  </svg>\n",
              "      </button>\n",
              "\n",
              "\n",
              "\n",
              "    <div id=\"df-82caf4c0-c5c1-4501-a363-475f8c4c6c44\">\n",
              "      <button class=\"colab-df-quickchart\" onclick=\"quickchart('df-82caf4c0-c5c1-4501-a363-475f8c4c6c44')\"\n",
              "              title=\"Suggest charts.\"\n",
              "              style=\"display:none;\">\n",
              "\n",
              "<svg xmlns=\"http://www.w3.org/2000/svg\" height=\"24px\"viewBox=\"0 0 24 24\"\n",
              "     width=\"24px\">\n",
              "    <g>\n",
              "        <path d=\"M19 3H5c-1.1 0-2 .9-2 2v14c0 1.1.9 2 2 2h14c1.1 0 2-.9 2-2V5c0-1.1-.9-2-2-2zM9 17H7v-7h2v7zm4 0h-2V7h2v10zm4 0h-2v-4h2v4z\"/>\n",
              "    </g>\n",
              "</svg>\n",
              "      </button>\n",
              "    </div>\n",
              "\n",
              "<style>\n",
              "  .colab-df-quickchart {\n",
              "    background-color: #E8F0FE;\n",
              "    border: none;\n",
              "    border-radius: 50%;\n",
              "    cursor: pointer;\n",
              "    display: none;\n",
              "    fill: #1967D2;\n",
              "    height: 32px;\n",
              "    padding: 0 0 0 0;\n",
              "    width: 32px;\n",
              "  }\n",
              "\n",
              "  .colab-df-quickchart:hover {\n",
              "    background-color: #E2EBFA;\n",
              "    box-shadow: 0px 1px 2px rgba(60, 64, 67, 0.3), 0px 1px 3px 1px rgba(60, 64, 67, 0.15);\n",
              "    fill: #174EA6;\n",
              "  }\n",
              "\n",
              "  [theme=dark] .colab-df-quickchart {\n",
              "    background-color: #3B4455;\n",
              "    fill: #D2E3FC;\n",
              "  }\n",
              "\n",
              "  [theme=dark] .colab-df-quickchart:hover {\n",
              "    background-color: #434B5C;\n",
              "    box-shadow: 0px 1px 3px 1px rgba(0, 0, 0, 0.15);\n",
              "    filter: drop-shadow(0px 1px 2px rgba(0, 0, 0, 0.3));\n",
              "    fill: #FFFFFF;\n",
              "  }\n",
              "</style>\n",
              "\n",
              "    <script>\n",
              "      async function quickchart(key) {\n",
              "        const containerElement = document.querySelector('#' + key);\n",
              "        const charts = await google.colab.kernel.invokeFunction(\n",
              "            'suggestCharts', [key], {});\n",
              "      }\n",
              "    </script>\n",
              "\n",
              "      <script>\n",
              "\n",
              "function displayQuickchartButton(domScope) {\n",
              "  let quickchartButtonEl =\n",
              "    domScope.querySelector('#df-82caf4c0-c5c1-4501-a363-475f8c4c6c44 button.colab-df-quickchart');\n",
              "  quickchartButtonEl.style.display =\n",
              "    google.colab.kernel.accessAllowed ? 'block' : 'none';\n",
              "}\n",
              "\n",
              "        displayQuickchartButton(document);\n",
              "      </script>\n",
              "      <style>\n",
              "    .colab-df-container {\n",
              "      display:flex;\n",
              "      flex-wrap:wrap;\n",
              "      gap: 12px;\n",
              "    }\n",
              "\n",
              "    .colab-df-convert {\n",
              "      background-color: #E8F0FE;\n",
              "      border: none;\n",
              "      border-radius: 50%;\n",
              "      cursor: pointer;\n",
              "      display: none;\n",
              "      fill: #1967D2;\n",
              "      height: 32px;\n",
              "      padding: 0 0 0 0;\n",
              "      width: 32px;\n",
              "    }\n",
              "\n",
              "    .colab-df-convert:hover {\n",
              "      background-color: #E2EBFA;\n",
              "      box-shadow: 0px 1px 2px rgba(60, 64, 67, 0.3), 0px 1px 3px 1px rgba(60, 64, 67, 0.15);\n",
              "      fill: #174EA6;\n",
              "    }\n",
              "\n",
              "    [theme=dark] .colab-df-convert {\n",
              "      background-color: #3B4455;\n",
              "      fill: #D2E3FC;\n",
              "    }\n",
              "\n",
              "    [theme=dark] .colab-df-convert:hover {\n",
              "      background-color: #434B5C;\n",
              "      box-shadow: 0px 1px 3px 1px rgba(0, 0, 0, 0.15);\n",
              "      filter: drop-shadow(0px 1px 2px rgba(0, 0, 0, 0.3));\n",
              "      fill: #FFFFFF;\n",
              "    }\n",
              "  </style>\n",
              "\n",
              "      <script>\n",
              "        const buttonEl =\n",
              "          document.querySelector('#df-a8a6f51b-508c-4555-aee6-9194b3591344 button.colab-df-convert');\n",
              "        buttonEl.style.display =\n",
              "          google.colab.kernel.accessAllowed ? 'block' : 'none';\n",
              "\n",
              "        async function convertToInteractive(key) {\n",
              "          const element = document.querySelector('#df-a8a6f51b-508c-4555-aee6-9194b3591344');\n",
              "          const dataTable =\n",
              "            await google.colab.kernel.invokeFunction('convertToInteractive',\n",
              "                                                     [key], {});\n",
              "          if (!dataTable) return;\n",
              "\n",
              "          const docLinkHtml = 'Like what you see? Visit the ' +\n",
              "            '<a target=\"_blank\" href=https://colab.research.google.com/notebooks/data_table.ipynb>data table notebook</a>'\n",
              "            + ' to learn more about interactive tables.';\n",
              "          element.innerHTML = '';\n",
              "          dataTable['output_type'] = 'display_data';\n",
              "          await google.colab.output.renderOutput(dataTable, element);\n",
              "          const docLink = document.createElement('div');\n",
              "          docLink.innerHTML = docLinkHtml;\n",
              "          element.appendChild(docLink);\n",
              "        }\n",
              "      </script>\n",
              "    </div>\n",
              "  </div>\n"
            ]
          },
          "metadata": {},
          "execution_count": 17
        },
        {
          "output_type": "display_data",
          "data": {
            "text/plain": [
              "<google.colab._quickchart_helpers.SectionTitle at 0x7db6c4db57e0>"
            ],
            "text/html": [
              "<h4 class=\"colab-quickchart-section-title\">Categorical distributions</h4>\n",
              "<style>\n",
              "  .colab-quickchart-section-title {\n",
              "      clear: both;\n",
              "  }\n",
              "</style>"
            ]
          },
          "metadata": {}
        },
        {
          "output_type": "display_data",
          "data": {
            "text/plain": [
              "import numpy as np\n",
              "from google.colab import autoviz\n",
              "\n",
              "def categorical_histogram(df, colname, figscale=1, mpl_palette_name='Dark2'):\n",
              "  from matplotlib import pyplot as plt\n",
              "  import seaborn as sns\n",
              "  df.groupby(colname).size().plot(kind='barh', color=sns.palettes.mpl_palette(mpl_palette_name), figsize=(8*figscale, 4.8*figscale))\n",
              "  plt.gca().spines[['top', 'right',]].set_visible(False)\n",
              "  return autoviz.MplChart.from_current_mpl_state()\n",
              "\n",
              "chart = categorical_histogram(df, *['sent'], **{})\n",
              "chart"
            ],
            "text/html": [
              "      <div class=\"colab-quickchart-chart-with-code\" id=\"chart-9ea3a43d-aba1-4217-a125-7f7477b422e4\">\n",
              "        <img src=\"data:image/png;base64,iVBORw0KGgoAAAANSUhEUgAAA4MAAACECAYAAAAqev7fAAAAOXRFWHRTb2Z0d2FyZQBNYXRwbG90\n",
              "bGliIHZlcnNpb24zLjcuMSwgaHR0cHM6Ly9tYXRwbG90bGliLm9yZy/bCgiHAAAACXBIWXMAAA9h\n",
              "AAAPYQGoP6dpAABKrElEQVR4nO3deVhU1f/A8fcAhhuIa5m7oqjAMKCyGCAq7n5NcxdDUlzL7avm\n",
              "khppfTM1yaVyyyUWNfc0l8SiQM1cGlksFQPXDFMkcAGB+f3BM/fHwDAMLlnxeT2PzyN3Offcc889\n",
              "557l3lHpdDodQgghhBBCCCHKFItnHQEhhBBCCCGEEH89aQwKIYQQQgghRBkkjUEhhBBCCCGEKIOk\n",
              "MSiEEEIIIYQQZZA0BoUQQgghhBCiDJLGoBBCCCGEEEKUQdIYFEIIIYQQQogySBqDQgghhBBCCFEG\n",
              "SWNQCCGEEEIIIcogaQwKIYQQQgjxlC1duvRZR0GIIqQxKIQQQgghxFN26dKlZx0FIYqQxqAQQggh\n",
              "hBBClEHSGBRCCCGEEEKIMkgag0IIIYQQQghRBkljUAghhBBCCCHKIGkMCiGEEEIIIUQZJI1BIYQQ\n",
              "QgghhCiDVDqdTvesIyGEEEIIIcS/WWu33nRoF/ysoyH+BRaG9nxiYcnIoBBCCCGEEEKUQdIYFEII\n",
              "IYQQQogySBqDQvwD5OTk8OGHH9KuXTvc3d1p167ds45SibZu3YqHhweenp4sX778WUdHCCGEEEIU\n",
              "YvWsIyCEKNnEiROpVKkS+/fvp2LFis86Ombp378//fv3f9bREEIIIYQQxZCRwb+ISqXC2dkZjUaD\n",
              "RqOhYsWKREdHA+Dn58f48eNp06YN9vb2TJkyBf13fZKSkvD390etVqPRaNi1a1eRMB0dHXF2diY2\n",
              "NhaAhw8fMmPGDNzd3dFoNAwYMIC0tDQA0tPTCQ4OxsnJCRcXF4YPH87FixeVeFWuXJlGjRqh0WgY\n",
              "M2aMcpw7d+4AsHbtWlQqlRL3gtq3b49Go+GFF16gZs2aaDQaWrdubdZ53Llzh7y8PIYPH87o0aOV\n",
              "8w8LC8PDwwM3Nzd8fX05c+YMABs2bKB3795KGAkJCTRs2BCAlJQU7OzsDOJWo0YNUlJSAGjYsCFa\n",
              "rRaAqKgoVCoVGzZsAODNN9/Ezc0NtVqNr6+vsk9kZCQeHh64urri4uLCnj17lLD9/PwMzmfq1KmE\n",
              "hIQAEB0djUajUdYNHToUlUql/B0ZGUmLFi3QaDQ0btwYPz+/IumamZlJZGQkp0+fxsPDA7VaTWRk\n",
              "pLL+5MmTtG3bFrVajbu7O0eOHDHYv2Des7KyUs6p4HUtKCQkhEmTJhlNu/DwcHr2/P+XlhctWqTk\n",
              "v4CAANLT04uEkZWVhb29vdFz27Jli5L3CsZz7dq1gHnXPyUlhZYtWxIVFQU8Wh7XK2m7EydO0KFD\n",
              "B1q3bo2rqytbt25V4mBpaansWzitL1y4QI8ePWjTpg1qtZoVK1YYXJ/Zs2fj6upKs2bNiIiIMFhn\n",
              "7BoVVlL5UjB/Fg572rRpaDQa7O3tqVChghKGVqvl8OHDeHl54erqiqOjI5999hkAMTExynbPPfcc\n",
              "Dg4OaDQa5s2bZ/T+0zN2bQD+/PNPunfvjqOjY5H4FxQdHW0QR7VabXA/HTx4ULl/27Vrx9mzZ5V1\n",
              "mZmZqFQqo9fnSZ9nQREREbRq1YpWrVrRuXNn4uPjAUyme2ZmJsOHD8fJyQknJyfeeecdoOT7paBr\n",
              "167Rr18/nJ2dUavVzJkzx6zzmTp1Kmq1GkdHR+Wegvx7Ua1Wo1ar6dGjB9euXQNM34umys3C17Vg\n",
              "Oam/VnoBAQG0bt1aOfaNGzeMhhMUFESdOnWUc6xbty5BQUFKPDt06ECvXr1o2bKlQfmem5vLtGnT\n",
              "lPQeP3482dnZBmG6uLjQqFEj5syZoxzv4MGDeHt706pVK9zd3fn222+LnIOx/Gaqjg4KCuKjjz5S\n",
              "wlmxYoXBORSs93x9fZV6r6T4mEqrWrVqKXVWRkYGI0eOxN3dHbVazahRo5S08PPzo0aNGjx48ACA\n",
              "GzduYG1tbRA/lUqllIsAvXr1MutaBgQEoNFoqF+/PlWqVFHSLTU11SBN/vjjD6pVq6Ycc8uWLbRq\n",
              "1UrJYwcPHgQgPj4eb29v3NzcaNmyJe+++64Sh8J13N69ew3qJ1PPPFqtllatWhktf4T4p5KRwb9Q\n",
              "TEyM8vCgbyTpnT17lqNHj/Lw4UN8fX3ZtGkTQ4YMISAgQGkgXbhwAU9PT1xdXWnQoIFBmBMnTmTn\n",
              "zp14e3uzaNEiKlWqxI8//gjA/PnzmT17Nh9//DGTJk2iQoUKxMXFYWFhwc2bN6lZs6bSOPLz82PS\n",
              "pEkGFY7enTt3WLRoEY0aNTJ6fvqKJyQkhDt37hhUaCWdR15eHsHBwVhbW/PJJ5+gUqk4cuQImzZt\n",
              "4vvvv8fa2pqYmBiGDBlCYmLio14CAw8fPmTKlCk4OzsryxYuXKj8f9CgQaxfv5533nmHLl26MHjw\n",
              "YFQqFSkpKXh6enLp0iWsra3NPl5sbCy//PKLwbKJEyeyf/9+Wrduzd69e1m8eHGR/W7dusWdO3fo\n",
              "06cPr7/+OleuXKF169bKg+Qrr7zCmjVr6NKlC7GxsfTt25ekpCQqV65Mbm4uAEeOHMHW1pYaNWqU\n",
              "NpmKtX//ftatW8exY8ews7Nj1KhRzJgxg08//dRgu8WLF1OlShWjYQwcOJCBAwcC+RVwwXvEnOuf\n",
              "kpJC9+7dWb58OR07dgR4rDzepEmTYre7c+cOo0aNYt++fdSuXZs//vgDNzc32rZtC4CNjY2yL6Ck\n",
              "dW5uLoMHDyY8PJzmzZtz7949PD098fDwoE2bNsq5//TTT/z666+0bt2al156yeAhzxymyhdTFi1a\n",
              "BOQ/kE+aNMngHNLS0oiNjcXS0pLbt2/j6upKly5d8PHxUbZr2LCh0kgBlAdeY4xdG8hvaFhaWirX\n",
              "1lT8HRwclGNnZmZiY2MDQGpqKkOGDCE6OhpnZ2ciIiLo168fiYmJqFQqcnNzsbCwUPYteC+4ubk9\n",
              "0fMsqG/fvgQEBAD5D6gDBgzg9OnTJtN9+vTpZGVlERcXx/379/H29qZ58+Ym75fChg4dSufOndm2\n",
              "bRtAkfvA2Pmkp6fTokULFi9ezA8//ECvXr24ePEily5dYtq0aZw6dYo6derw3nvvERwczP79+5Xj\n",
              "GbsXn0S5CfDRRx9Rs2ZNABYsWEBISAgrV640uu20adOUB/0VK1Zw8uRJZd2RI0fQarW0aNGChQsX\n",
              "MmrUKL7++mtWr17NiRMnOHXqFJaWlvTq1YvQ0FCmT59uEObp06fp1KkT8+fP59dffyUkJISDBw9i\n",
              "a2tLUlISPj4+pKSkYG1tbTK/maqjzRUREcHdu3eVv0uKT2G5ublMnz6dCRMmMHXqVGX5lClT8PHx\n",
              "Yc2aNeh0OkaOHMnSpUuZNm0aAM2bN2fTpk289tprrFq1Cnd3d4Nw3d3dWb16Nf379yc5OZk///zT\n",
              "YH1x11LfCbZhwwZ27dpltAMLYObMmQbPIAXviU8//ZT//e9/dOnShYYNG3L48GGsra25f/8+bdu2\n",
              "xd/fH09PT3OT2Ogzz3vvvcfgwYOZOnWqQfljTFZWFllZWQbLdHl5Zh9fiL+KNAb/JgIDAylXrhzl\n",
              "ypVj6NChREVF8Z///IfTp08rIz1NmzbF29ubmJgYpRHl4+NDZmYmWVlZfPfddwDs2rWL9PR0tm/f\n",
              "DkB2drbyYLl3716OHz+OhUX+oLC+UDbH3LlzGT9+vDKKZq6MjIwSz2P06NF8/fXXXLlyRelp2717\n",
              "N2fOnMHDw0MJ6/bt29y/fx/Ib3zqH2T0PZUFj1mwp9nY6Mry5cvp1KlTkYe6CRMmsH37duzs7Hj/\n",
              "/fcBSE5OJiAggKtXr2JlZcXt27dJTk6mefPmZqVBXl4ekyZNYunSpXh7eyvLraysilSWhel0Oiwt\n",
              "LRk9ejQA9erVo2fPnnzzzTfKA0eXLl0A8Pb25vnnn0er1eLt7a08LFSoUMFo2D4+PlhaWlK9enU+\n",
              "/PBDgzQrSVRUFAMHDlQeRseOHVtkWuiVK1cIDw/nnXfe4ZNPPjE7bCj5+l+7do327dvj5+enPHzC\n",
              "4+VxU44ePcqvv/5Kt27dDJafO3eOxo0bF7vfuXPnSExMZNCgQcqyjIwMzp49qzQGg4PzPzXeuHFj\n",
              "fH19+f7775V79nGukd7kyZMJCQmhXLlyTJ06VXl4KsmtW7cYMWIE58+fx8rKilu3bpGQkEDdunVN\n",
              "7qe//3Q6HfXr12f58uU0bNiw2GtjZWXFvXv3yMnJwcrq0aql48eP4+zsrHTuBAQE8Prrr3Pt2jXq\n",
              "1q1Leno61atX/0vOs6Dy5cvTr18/kpKSALh8+TI//fST0olgTFRUFB9++CEWFhZUqlSJwMBADh06\n",
              "ZPZ1y8zMJDY2VhklAfPuAysrK2XExdPTkxdffJGffvqJM2fO0LVrV+rUqQPAuHHjmDdvntLZVNy9\n",
              "WJpy89y5c0reziv0wBwZGUlYWBgPHjzgwYMHj9yp1bZtW1q0aAHAqFGjmD17Nrm5uURFRREUFKQ0\n",
              "mkaOHMnHH3+sNAYXLVrEunXruHDhAgsWLADgwIEDJCUl4evrq4RvYWHB5cuXadq0qcn8ZqqO1h9P\n",
              "X8/+8ccf+Pv7G+yfmZnJ/PnzWb58OSNHjjQrPoXdvXvXaL2wa9cujh07xpIlSwC4f/8+lpaWyvrh\n",
              "w4ezfv16hg4dyp49ewgICFBmbADUrl2b8uXLk5CQwIYNGxg7dqzybAKPdy1PnjxJfHw8QUFBnDp1\n",
              "Sln++eef8+677/LHH38os2bu37/PuHHj0Gq1WFhYcOXKFbRabakag8aeecyps/Xef/99ZVRfr/YL\n",
              "DmYfX4i/ikwT/ZsqbupB4eUxMTEkJyczf/58JkyYAOQ3HpYvX45Wq0Wr1XL27Fn27dv3WPGJj4/n\n",
              "6NGjjB079rHC0St8HtWrV2fSpEnKOUD+eQwbNkw5D61Wy2+//aZUYO3bt1eW63u/9fSjNPp/hXvP\n",
              "b9y4werVq3n77beLxG3ZsmVcvnwZLy8vJd0GDRpEcHAwCQkJaLVaKleuXKQBasrKlSvx9PTExcXF\n",
              "YPnGjRsZMWIE9vb2BudekDlT0QoqmLZXrlzhhRdeoFy5cka3jYmJQavVMmTIEMaPH1+q45g6rt6U\n",
              "KVOYP3/+I73nWNL1T0xMZPny5Zw4ccLkdKgnRafT4ejoaBCfy5cv06FDhxL3q1atmsF+ycnJDBs2\n",
              "rNh9Cqblk7hGoaGhaLVaIiIiCAoKUhrUJRkzZgze3t7Ex8ej1Wpp1qyZWflef/+dOXMGjUZjMLXO\n",
              "mMDAQBo0aEC1atXQaDQG0zuflPPnzyudT4U97fPctm2bcu2ff/55Svvzvs9yKpqxYxdeVty9WJpy\n",
              "Uz/iq9VqOXr0qLI8NjaWZcuWsW/fPhISEliyZEmpyt5HUfj8pk2bRlxcHJcuXWLBggVcvXoVnU5H\n",
              "p06dDO7ra9euKQ0vU/mtpDp62rRpyroZM2YU2X/evHkEBwdTu3ZtgzBNxaewK1euUL9+faNx2759\n",
              "uxLGuXPnWLVqlbK+WrVqNG3alGnTptGzZ0+jdcvrr7/OwoULiY6ONug8e5xrqdPpmDBhAsuWLSty\n",
              "fQIDAzl//jxLlixRpnjPmjWLGjVqKJ0Zfn5+pco3xT3zvPfeexw+fJgXX3zRZIcO5I9ipqenG/yr\n",
              "/Xwzs+MgxF9FGoN/E+Hh4Tx8+JD79+8TGRmJv78/NjY2uLm5sX79eiD/vbvY2FiDnj89Ozs7ZcpV\n",
              "7969CQ0N5d69ewDcu3dPmX7Vq1cvFi9erPS86vcpyaRJkwgNDTXoITSXOeexYMEC5s6dy/nz55X3\n",
              "DXr16kV4eDiXL18G8nuLC075eRyzZs1i9uzZRaZ43L59GwBLS0vKly+vTPFJS0tTpoqEh4cr73eY\n",
              "486dOyxbtoz58+cXWVe3bl1sbW05evQoy5YtM7q/nZ0djo6OyntBV69eZd++fXTs2BEHBwfy8vI4\n",
              "dOgQkD96dePGDaWHfePGjQY99cWpVatWkeksJfH39+eLL75QeklXrVpF586dlfXff/89aWlp9OvX\n",
              "r1Th6pV0/Tt37kzPnj0JDw8nODhYuSaPmsdL0rZtW5KTkw3eo9Jqtcr7NMVxcHDA1tZWyf+Qfw/o\n",
              "8xqgrEtJSSEmJgYfH58i4TzKNSqsevXq6HQ6ZUSnJGlpaTRo0ACVSsX3339vMAJgroLxLu7aVKhQ\n",
              "AUtLS9566y20Wi0tW7Ys9XE8PT2Jj48nISEBgM2bN1OnTh1lNGvTpk307dv3LznPgq5fv66c76ZN\n",
              "m8jOzsbV1dVkWP7+/nz22WfodDru3r1LWFiYwb1VksqVK+Pr68uHH36oLDPnPsjJySEsLAyAH3/8\n",
              "kevXr6PRaGjfvj0HDhzg+vXrQH7nVseOHZX6oLh78XHKTb20tDRsbGyoXr062dnZBg2T0jp27Jgy\n",
              "VX/t2rW0b98eS0tL/P39+fzzz8nOziYnJ4e1a9caTe9KlSoB+WV6ly5diIqKIi4uTlmvn/YJpvOb\n",
              "qTq6JElJSXz99ddMnDjRYHlJ8SnozJkzyusaxuL2wQcfkJOTA+Snv35UW2/8+PF8/fXXymyVwnx8\n",
              "fLh58yYjRoxQZgHow3rUaxkWFkbLli2LTEstWI5WqlTJoM6uW7cuVlZWnDt3TqkjzVXcM0+tWrXI\n",
              "zc1ly5YtBp0WxlhbW2Nra2vwT2Uhj93i70emif5NtGjRgpdeeonbt2/z8ssvK1PKIiIiGDNmDCtW\n",
              "rEClUrF27VqD3jz9FDKApUuXAv//vomHh4fSgzZ9+nQcHR0JDQ1l8uTJODs7U65cOdq0acOaNWvM\n",
              "ip+xB1RzlXQekN8Ai4iIoH379nh6euLj48PChQvp06cPOTk5ZGdn06NHj1K9D1WcSpUqMXTo0CLL\n",
              "AwMDuXLlCllZWdSrV09pgC1dupR+/fphZ2dHhw4disR91qxZyvt+KSkpWFhY8PLLLwNw6dIl1qxZ\n",
              "Q9WqVcnMzFT2SU1NZdCgQURERFCrVi2T8d20aRPjxo3j448/xsLCgo8++kiZ7rRjxw4mTJjAlClT\n",
              "KF++PNu2baNy5cpMnDiR5ORkVq9eXWy43bp1w9LSkgcPHijTgiD/ZyH0Da/09HT69++PtbU1N2/e\n",
              "VHqau3XrRkJCAl5eXlhYWKBWqw2mgiYkJDzSQ7Weuddfo9Ewbtw4Ro4cybZt2x45j5ekatWqfPXV\n",
              "V0ydOpUpU6bw8OFD6tevX+y7LXpWVlbs3btXebjIzc2lRo0aBh8Bys3NxdXVlbt377Js2TKDKWPF\n",
              "XaPS0OfPjIwMPvzwQypXrmzWfgsWLGDcuHHMnz8fjUZjMGXXlMzMTLy9vdHpdOTl5Sn3UXHXZuHC\n",
              "heTk5CjT8h5FzZo1iYiIIDAwkJycHKpWrcrWrVtRqVTMnDmTdevW0bRpUzZv3gzkP9AHBwcTFRX1\n",
              "xM+zoOjoaP73v/+hUqmws7Njz549JY6Uz5kzhwkTJihTXvv378+AAQNKlR5hYWGMHz8eR0dHypUr\n",
              "x8svv1xkylphVapUISEhARcXF3JycoiMjMTGxgYnJycWLVpE165dgfyp6sbuqcL3Yknlpjm6du1K\n",
              "eHg4Dg4OVK9eHX9/f+XjNaXVtm1bpk+fTlJSEtWrV+fzzz8H8qeMXrx4ETc3N+D/3xfW00/bvH//\n",
              "vvJhH8if8jh69Gju3bunNPIjIyNLzG+m6uiSJCYmcujQoSIjcvb29sXGp6DY2FjGjRtHWFiY0Xe5\n",
              "Q0NDmTFjBhqNBgsLC6ysrFi4cCH29vbKNuaM3uvfJy1Y5z3OtUxJSTGY9qy3fPlyZbqtpaWl8s76\n",
              "7NmzefXVV9m4cSNNmjQpMoOjYB2XlpbG1atXWbdunfJRK2PPPHl5eQwePJixY8cqr+gI8W+g0pV2\n",
              "vop44kx90EL8M4WEhODn52f0C5pCFKRSqUhLSyv1dGBhvqCgIEJCQoq8z+fn52f0q6VlUUpKChqN\n",
              "xqyv1/4TlfRhkidJ8ts/T3R0NNHR0cpXVZ+W1m696dAu+KkeQ5QNC0N7lryRmWRkUIinoEOHDsW+\n",
              "LyKE+GuNHTvW6AdU5s6d+wxiI/7tJL/98zRq1MhgSqsQZYmMDAohhBBCCPGUycigeFKe5MigdIMI\n",
              "IYQQQgghRBkk00SFEEIIIYR4ynz9GrNwyZMb0RHiSZCRQSGEEEIIIYQog6QxKIQQQgghhBBlkDQG\n",
              "hRBCCCGEEKIMksagEEIIIYQQQpRB0hgUQgghhBBCiDJIGoNCCCGEEEIIUQZJY1AIIYQQQgghyiBp\n",
              "DAohhBBCCCFEGSSNQSGEEEIIIYQog6QxKIQQQgghhBBlkDQGhRBCCCGEEKIMksagEEIIIYQQQpRB\n",
              "pW4M9u7d26xlQgghhBBCCCH+vkrdGLx8+XKRZb/++usTiYwQQgghhBBCiL+Glbkbrlq1ipUrV3L+\n",
              "/Hnc3NyU5enp6Tg6Oj6VyAkhhBBCCPFvkHYwlPNBS591NMS/QLMNuU8sLLMbg127dsXBwYGxY8cS\n",
              "GhqqLLe1tUWtVj+xCAkhhBBCCCGEePrMbgw2aNCABg0a8PPPPz/N+AghhBBCCCGE+AuY3RjUS0lJ\n",
              "4YMPPuDixYvk5OQoy7/55psnGjEhhBBCCCGEEE9PqT8gM2DAAOzs7HjjjTeYMmWK8k8IIcQ/T3x8\n",
              "PEOGDMHLywsXFxe2bNnyrKMknqIvv/ySyZMnc/LkSQYOHGj2fjVq1CAlJaXE7UJCQnjw4IFZYV68\n",
              "eBE3NzdcXV1Zv3692XERQgjx5Kh0Op2uNDuo1Wri4uKeVnyEEEL8RS5evEjfvn1ZvXo17u7uzzo6\n",
              "4m+sRo0anDx5koYNG5rcTqVSkZaWhp2dXYlhfvDBB/z666+sWrWqyLqcnBysrEo9eUmIv7XXHFXM\n",
              "bCM/8S0e35P8gEypc6STk5PRn5coTKVScefOHeXv1q1bEx0dDcCNGzcYMGAA7u7uODs7M3v2bKNh\n",
              "bNiwAZVKxdatW5VlvXr1QqVSKX8fPHgQNzc31Go17dq14+zZs8q+BX//sF+/fmzYsAGAoKAgPvro\n",
              "oxLPISgoiDp16qDRaNBoNNStW5egoCAAcnNzmTZtGk5OTjg5OTF+/Hiys7ONhr9ixQplv5ycHIYO\n",
              "HUrz5s3RaDTY2dmxYcMGYmJilOM899xzODg4oNFomDdvHikpKWZVrAW3e/DgAd26deO9994D8nv/\n",
              "vb29cXNzo2XLlrz77rvKfiEhIUyaNAmA06dP4+DgwJkzZ4qEHx0dTYUKFZR4qtVqs64FQGZmJiqV\n",
              "StnXyspK6WU+fPgwXl5euLq64ujoyGeffQbwxNLE0tJSCafwsRs2bMi0adNo1aoV9vb2LFq0SNn3\n",
              "woUL9OjRgzZt2qBWq1mxYoVB2K1bt8be3t7gOho7buF0CgsLQ61Wo1ar6dGjB9euXVPSV6PRkJqa\n",
              "qsRNq9Wi0+l47bXXmDVrlkEYHh4euLm54evrq1yvwvk+ISFBeXgrnGazZ89GpVIpaVHS+eqFhIRQ\n",
              "s2ZNJT0bN26Mn5+fsn7RokU4Ojri7OxMQEAA6enpRsM5duwY3t7euLi4oFar2b17t7LOz8+PRo0a\n",
              "FUnbpKQk/P39UavVaDQadu3apeyjUqlwdnZWjh0bGwvk573hw4cr9+o777xjND769NfT51k9U/lb\n",
              "b8uWLUq66OOj0WhYu3YtN27coH379rRq1QpHR0feeOMN8vLyAMPrlpKSQsuWLYmKiioxjlOnTiUk\n",
              "JISLFy8qx61cubKSdmPGjDEZ9zVr1mBjY8OwYcNwdnamX79+3Lx5s0icCjJVfhaXt03ly8LS09MJ\n",
              "Dg7GyckJFxcXhg8fDhR/He/fv4+Liwvbtm0D8vNVw4YNuXnzppLnp06dilqtxtHRUUnXnJwcunTp\n",
              "QuvWrXF0dGTIkCHcvXvXaDoXzgsF67e1a9eiUqmIjo42ef0Lh2nK1KlTadasGRqNhlq1ahESEmJ0\n",
              "u+LyfHZ2tlI/ubi40LVrV2WfxYsX4+7ujpubG127duXSpUtGw/7yyy9p0aIFarWaN998s0j82rRp\n",
              "g0ajwdfXl3PnzgEo+c3Hx0cpyyIjI/Hw8MDV1RUXFxf27NkDwOeff05oaCg7duxAo9Fw9uxZ/Pz8\n",
              "mDBhAl5eXnTu3LnEa+Tk5MTYsWNRq9U4OzsTFxdHUFAQzs7OeHh4KPnP3POeNm0aGo0Ge3t7g7pO\n",
              "q9UWW0+B4T1x4MABHB0djT4nPYkyvrCGDRsqdWPh8jI1NZVXXnkFZ2dnnJycjDa6If/+rFKlihJG\n",
              "8+bNi9Qbxu4hyC9bvL29adWqFe7u7nz77bfKOlP1fuHjFqxHTD1fLViwgH79+pGbm2tQp925cwd3\n",
              "d3f27t0LwMOHD5kxYwbu7u5oNBoGDBhAWlpakesFhs9ohcsqX19fg7LK1PkK8U9V6m63mzdv4uLi\n",
              "gpeXF+XLl1eW79ixw+wwhg0bxqxZs2jXrh05OTn07NmTrVu30r9//yLburu7s3r1avr3709ycjJ/\n",
              "/vmnsi41NZUhQ4YQHR2Ns7MzERER9OvXj8TERCwsLCjloKdR06ZNUxpKK1as4OTJkwCsXr2aEydO\n",
              "cOrUKSwtLenVqxehoaFMnz7dZHgHDx4kISGBxMRELC0t6devH5BfeWq1WiC/cNc/VABmTc0p6MGD\n",
              "B/Tp0wdfX19mzpyphHn48GGsra25f/8+bdu2xd/fH09PT2W/06dPM3jwYLZu3VrsF2IdHByUeGZm\n",
              "ZmJjYwOYvhYqlYrc3FwsLCyUfWvUqKGE6ebmRmxsLJaWlty+fRtXV1e6dOnyxNLExsZGCafwsQF+\n",
              "//13Tp48ya1bt3Bzc+Oll17Cw8ODwYMHEx4eTvPmzbl37x6enp54eHjQpk0bIL/CWr9+PT4+Psp1\n",
              "1MvNzaVKlSpotVqDdEpISGDatGmcOnWKOnXq8N577xEcHMz+/fvx8/Pj3XffpXv37hw6dEgJa+LE\n",
              "iVSuXJn//e9/ABw5coRNmzbx/fffY21tTUxMDEOGDCExMdHsNLl48SK7du3C1tZWiW9J51tQQECA\n",
              "Upnu3buXxYsXA7B//37WrVvHsWPHsLOzY9SoUcyYMYNPP/3UYP/bt2/Tu3dvtm3bho+PD3l5eQad\n",
              "R7m5uSxdupRevXoZpG1AQADDhw9n9OjRXLhwAU9PT1xdXWnQoAGQ34FgZ2fHxIkT2blzJ97e3syf\n",
              "P5+srCzi4uK4f/8+3t7eNG/evFRT5ErK33oDBw5UwlWpVEp8IP++3LNnD5UrVyY3N5eXX36ZL774\n",
              "gkGDBin7p6Sk0L17d5YvX07Hjh2LxKO4cq1JkyZKHvfz82PSpEnKA42puP/++++kpqbyww8/ULVq\n",
              "Vd58800mTJjApk2bzE4bPVN5uzQmTZpEhQoViIuLw8LCQmmcmrqOW7dupWPHjjRo0ICAgADCwsKo\n",
              "WbMmd+/eJT09nRYtWrB48WJ++OEHevXqxcWLF6lcuTKRkZFUr14dnU7HuHHjWL58OTNmzDA7rnfu\n",
              "3GHRokU0atQIMH399Z2hJUlMTCQsLIzk5GQqVqzI1KlTTW5vLM+///77nD9/nlOnTmFtba2kYWRk\n",
              "JOfOnePYsWNYWloSFhbGuHHj+OqrrwzCTE1N5bXXXiMmJoaWLVuyevVqbt26payfPn26cs9v3ryZ\n",
              "iRMncuDAAVauXMmqVasMzrtLly4MHjxY6Xjy9PTk0qVLBAYG8uuvv3Lnzh2DB/Pz58/z/fffU65c\n",
              "OXQ6nclr9Msvv7Bx40Y+/fRT5syZQ4cOHYiNjaV58+a8/vrrfPTRRyxatMjs89Z3BkZHRzNp0iSD\n",
              "eiMtLc1oPVW3bl1lmwMHDjB16lQOHDhAvXr1ilyrp1XGF6wbC5aX48ePx8HBgR07dpCamkqrVq1w\n",
              "cXExqPf12rdvr3SuJSQk0LNnT2VdcffQzZs3CQkJ4eDBg9ja2pKUlISPjw8pKSlYW1ubrPchv5zv\n",
              "2LEjO3bsMKhHTD1fzZgxgxkzZjBixAjefvttAO7evUvPnj2ZOnWqEu9FixZRqVIlfvzxRyC//Jg9\n",
              "ezYff/yx0TQ0JiIiQul8gPzf1DZ1voVlZWWRlZVleM55Zh9eiL9MqRuDQ4cOZejQoWZt6+Pjg6Wl\n",
              "JZBfwEP+TXv48GF+//13ZbvMzEylZ7Gw2rVrU758eRISEtiwYQNjx47lu+++A+D48eM4Ozvj7OwM\n",
              "5D8ovv7661y7do0GDRqQmJjI/fv3qVChQpFwFy1apIw8Dh8+nPHjx5ufCEBUVBRBQUFKATBy5Eg+\n",
              "/vhjpTGoDx/gjz/+wN/fHwArKysePHhAVlYWFStWNPt4GRkZaDQadDod9evXZ/ny5UZ71nNzc+nT\n",
              "pw9JSUlKDxnk956PGzcOrVaLhYUFV65cQavVKpVCfHw8nTp1YsKECY/0UyGmrkXdunVJT0+nevXq\n",
              "Rve9desWI0aM4Pz581hZWXHr1i0SEhIMKtnHSZOSjBgxApVKRY0aNXjllVeIiorCzs6OxMREgwf1\n",
              "jIwMzp49qzSOTJ3T3bt3jea7b7/9lq5du1KnTh0Axo0bx7x588jNzcXS0pKePXuyYsUKunfvzoMH\n",
              "DwgJCSEqKoqrV68qYezevZszZ87g4eGhLLt9+zb3799XjqF/MCju3Z3JkyezYMECpTf03LlzJZ6v\n",
              "OaKiohg4cKDyIDh27FijnTzHjh3DwcEBHx8fIL+RU61aNWW9sfTLyMjg9OnTHDlyBICmTZvi7e1N\n",
              "TEyM0hj08fEhMzOTrKwspZyIioriww8/xMLCgkqVKhEYGMihQ4eMNgbPnTunpJ1+1A5Kzt/myMvL\n",
              "Y/r06cTGxqLT6UhNTcXJyUlJ82vXrtG+fXv8/PyMNgQB6tevT0pKCrdu3So27xVmKu46nY7BgwdT\n",
              "tWpVIP/h0dXVVdlXn5d0Oh1eXl4sW7as2OOYytsFw4Li8yXkdy4cP34cC4v8iSs1a9YETF/HZs2a\n",
              "8cEHH+Dl5cW8efOUfAX5Za4+n3t6evLiiy/y008/4e3tTWhoKF999RU5OTmkp6fTtm1bZb/i8kJB\n",
              "c+fOZfz48QazAkzRh6nT6WjZsiWffPKJkvYF45uTk8O9e/fMqiOM5fm9e/fywQcfKPWTPg137drF\n",
              "iRMnaNWqFYBybQr74YcfUKvVtGzZEsgvIwvWkYcOHWL58uVkZGSQl5fH7du3i41fcnIyAQEBXL16\n",
              "FSsrK27fvk1ycjLNmzc3uv3QoUMpV64cADqdzuQ1sre3V85FP1NDH667uzs7d+4s1XmbUlI9dfjw\n",
              "YWbOnMnKlSuNNgT1HreMN1avFCcqKopTp04BUKtWLaV+M9YYNKW4eyghIYGkpCR8fX2VbS0sLLh8\n",
              "+TJNmzY1WUdC8fVkSc9Xc+fOpV69eqSnpysda5D/TQu9Xbt2kZ6ezvbt24H80fKCzwfFPaPpZWZm\n",
              "Mn/+fJYvX87IkSOB/Ma+qfMt7P333y8yE8WlRpHNhHjmSt0YHDZsGJDf42GsJ6Sggr2DrVu3BlB6\n",
              "tX/44QeDkUVTXn/9dRYuXMjZs2eZO3euWfu0a9eOHj160KpVK5577jlSUlIMerr0I36pqam0bNmS\n",
              "bt26YW9vb1bYxhQcHSgYPhiOKHbu3JnevXtTs2ZN7O3tuXTpkkG8ilNwdGvOnDnMmTOHsLCwIttl\n",
              "Zmbi6+vL888/z/z585XpRbNmzaJGjRr89NNPWFlZ8corrxg8kMXFxbFlyxZGjhzJgAEDaNGixSOk\n",
              "QvHOnz+vPLAXNmbMGLp378727dtRqVS4ubmZ9QECc9OktFQqFTqdjmrVqhn0DBd0//59fvvtN+XB\n",
              "t7ArV65Qv359s45V0M6dO8nOzua1115j9OjRqFQqQkJCmDJlijItSafTMWzYMKUXuTBTPbyQP3qn\n",
              "0+kMlpd0vo+q8PmZ6+rVq4+Ufvoy57PPPmPChAlGR6VMxam4ke8nYcmSJaSmpnL8+HHKly/Pf//7\n",
              "X4N8npiYyBdffMGMGTP49ttvad++fZEwGjZsyMyZM/Hx8eG5557j+vXrjBs37pHjVNJUa31eevjw\n",
              "IV27di3V/VU4nUvKl6VVOPzTp09Ts2ZNrly5Yta+kZGRfPPNN3z33XfY2tqybNkyg69il5QX4uPj\n",
              "OXr0KKGhoWY3BvVh6nQ6goKCWLJkCfPnzy+yzezZs7G3t6du3bqkpqaavMbm5Hk9nU7HzJkzGTVq\n",
              "lFnx1SuY1pcvX+aNN97gxIkTNGnShLi4OIOH48IGDRqkTO0DqFatmsnyvXLlysr/S7pGBZ8hLC0t\n",
              "i/yt/+L5o553QSXVU2fPnmX37t2MHj2abt26UatWLaPhPIky/lE9anlcXFg6nY5OnToRGRlpdBtT\n",
              "9T48ej05c+ZM3njjDZKTk8nMzKRbt27ExMQQFhbGq6++CuSn4fLly+ncubPRMIt7RtObN28ewcHB\n",
              "1K5dW1lW0vkWNnPmTP773/8aLHvDo4pZ+wrxVyr1O4Px8fE4OTnRpEkTAE6dOlXkfQJTKleuTPv2\n",
              "7VmwYIGy7Pr16wa9YoX5+Phw8+ZNRowYofQWQ34PVXx8PAkJCUD+dJU6deooD+hLly7l7NmzaLXa\n",
              "Ir0+elWqVOG5555T5qOby9/fn88//5zs7GxycnJYu3ZtsYVOQSqVChsbGwIDAzlz5kyx8TKlVq1a\n",
              "RaYe6FWpUoWZM2eyfPlyNm3axLFjx4D8KS5169bFysqKc+fOGUxRgfzRAn9/f1asWEFAQECp06Ok\n",
              "a7Fp0yb69u1rdN+0tDQaNGiASqXi+++/L/bdCFNMpUlJ9A9yt2/fZufOnXTs2BEHBwdsbW0NvnCX\n",
              "lJSk9IBv27aNdu3aUaVK0YI9Ly+PsLAwo6M77du358CBA1y/fh2AlStX0rFjRywtLfnjjz+YNm0a\n",
              "69evZ9SoUTRo0IC3336bKVOmkJSUpExp6tWrF+Hh4co7KXl5eUUqsuLk5uby5ptvFnnnq6TzNZe/\n",
              "vz9ffPGFMp171apVRu+Ltm3bcuHCBWJiYpRz0B/rq6++onz58kV6Wm1sbHBzc1PimJSURGxsrNEH\n",
              "UTs7O2VqnL+/P5999hk6nY67d+8SFhZm1r1aUEn52xxpaWm88MILlC9fnhs3bhi8Cw35HUU9e/Yk\n",
              "PDyc4OBg5f2WwmbMmKGUa4GBgY8V93bt2rF582Zliu7HH39s8H6ZXrly5bCzszN5j5nK26XRq1cv\n",
              "Fi9erIzGmXMd9+7dy8GDB0lMTOT48eMGX0TNyclRGrE//vgj169fR6PRkJaWRo0aNbC1tSUjI8Ps\n",
              "Bp3epEmTCA0NLfX5AcpMhOLSs1atWvj4+BAXF2fWNQbDPN+rVy+WLl2qhK9f3rt3b1auXKncaw8f\n",
              "PuSnn34qEpaXlxdxcXH88ssvAKxbt06pE9LT0ylXrhy1a9dGp9MVebfYxsbG4D3htLQ0ZRpteHh4\n",
              "sfnamMe9RnrmnndJcTFVT40fP57OnTszbdo05T3Xwv6KMr4gf39/1qxZA+TngR07dtCpU6dSh1Pc\n",
              "PdSlSxeioqIMPiqon5YJpuv99PR0du/ebbSeNPV89d1333HkyBHmzJnDvHnzqFKlClOmTGHVqlXM\n",
              "mzdPeU+0d+/ehIaGcu/ePQDu3btn9qsUSUlJfP3110ycONFgeUnnW5i1tTW2trYG/yzl2zHib6jU\n",
              "I4Pjx49n5cqVypQRNzc3AgMDWbhwodlhRERE8N///hcnJydUKhWVKlVi1apVJqdb6Xs7MzMzlWU1\n",
              "a9YkIiKCwMBAcnJyqFq1Klu3bjWr92vZsmVs27aNjIwMhg8frkyHMdeoUaOUz2LD/7+nU5ItW7bw\n",
              "3XffsW/fvlIdLzMzE29vb3Q6HXl5eaxdu9bk9jY2NmzcuJFhw4Zx4sQJZs+ezauvvsrGjRtp0qQJ\n",
              "HTp0MLpfjx49OHDgALNmzVLm75vD1LWYOXMm69ato2nTpmzevBnIf9cmODiYqKgoFixYwLhx45g/\n",
              "fz4ajcZgasyTTBNTcW/VqhXp6em88cYbyjSkvXv3Kg98ubm51KhRg8jISL788kuCg4OpXr26wTuM\n",
              "P/74I507d2b8+PFUqlTJ6LtHTk5OLFq0SHngrlevnlJZjxs3jjfffLNIT6pKpWL9+vV07doVLy8v\n",
              "fHx8WLhwIX369CEnJ4fs7Gx69OihjL6XlGYvv/yy0pmjZ2VlVez5lka3bt1ISEjAy8sLCwsL1Go1\n",
              "n3zySZHtqlatys6dO5kyZQoZGRlYWFgwf/587t69y5IlS9iyZYtBx49eREQEY8aMYcWKFahUKtau\n",
              "XWvQs1xwavrSpUuB/FHjCRMmKNMk+/fvbzCdyByPU9boTZw4kX79+uHo6MiLL75YbEeQRqNh3Lhx\n",
              "jBw5UvkoyuMwFfc+ffoQHx+Pl5cX5cqVo3nz5gbXKyYmBm9vb7Kysqhbty6BgYHFPvyYytulERoa\n",
              "yuTJk3F2dqZcuXK0adOGNWvWFHsdL1++zNixYzl48CDVqlVj69at+Pn54ebmRrly5ahSpQoJCQm4\n",
              "uLiQk5NDZGSk0iG3e/duHBwcqFmzJj4+PsV+TMWYFi1aGExHNUdSUhLe3t7k5uZSoUIFwsPDi2wT\n",
              "ExPDRx99xDfffGP0HijMWJ6fPn06b731lpIGL774Ivv27SMgIIBbt24po845OTkMHz7cYGow5OeZ\n",
              "devW0adPH5577jm6du2qTPdzdnZm0KBBODo6Ur169SIfGZoyZQqdOnWiYsWKfP311yxdupR+/fph\n",
              "Z2dHhw4dzBoJ0nvca6Rn7nmbYm49NW7cOA4cOMCKFSt44403iqx72mV8QcuWLWPs2LE4Ozuj0+l4\n",
              "6623zK5fCyruHrKxsSEyMpLRo0dz7949srOzcXV1JTIy0mS9v2/fPtq0aUNQUJDRcrC456u7d+8y\n",
              "ZswYtm7dWuRLs88//zzvvfceI0aM4MCBA0yfPp2srCw8PDyUcnr69Ok4OjqWeL6JiYkcOnRIma6s\n",
              "Z29vX+z5CvFPVuqflmjdujUnT57E1dVV6Vkr+H8hCgsKCiIkJKTI+3x+fn5mf1ThaWnYsCG7du0y\n",
              "+yt/8P8jifp3KPSKO08hxLORkpKCRqMx+DiREMJ8j3oP/Z3r/WdJflpCPClP8qclSj0yaGVlxcOH\n",
              "D5WelitXrjzSNBlRdowdO1b5gEFB5r7/+XfTrl07o8uLO08hhBCiLPm31ftC/JuVemQwPDycTZs2\n",
              "ERcXx7BhwwgPD2fhwoWlnnYlhBBCCCFEWSEjg+JJeaYjg0OHDqVx48bs3r2bmzdvEhYWVur3JoQQ\n",
              "QgghhBBCPFulHhns2rUrmzdvxsrKCicnJyD/Je958+Y9lQgKIYQQQgjxT/ff//6XJUuWPOtoCGGg\n",
              "1GPVv//+O3Z2duzbt4/evXtz4cIF5YddhRBCCCGEEEL8M5S6Mfjw4UMAvv/+e/z9/SlXrlyRT/wK\n",
              "IYQQQgghhPh7K3Vj0MnJiW7durF37146dOig/KCnEEIIIYQQQoh/jlIP6W3YsIEDBw7g4uJCxYoV\n",
              "uXbtGu+///7TiJsQQgghhBBCiKek1I3B8uXL07t3b+XvOnXqUKdOnScZJyGEEEIIIYQQT5n82IkQ\n",
              "QgghhBBClEHSGBRCCCGEEEKIMkgag0IIIYQQQghRBkljUAghhBBCCCHKIGkMCiGEEEIIIUQZJI1B\n",
              "IYQQQgghhCiDpDEohBBCCCGEEGWQNAaFEEIIIYQQogySxqAQQgghhBBClEEqnU6ne9aREEIIIYQQ\n",
              "4t+scpc22A3q+KyjIf4Frr624ImFJSODQgghhBBCCFEGSWNQCCGEEEIIIcogaQwKIYQQQgghRBkk\n",
              "jUEhhBDiGQoKCuKjjz4q9X6vvfYazZo1w8XFhZdeeokTJ04Uu218fDxDhgzBy8sLFxcXtmzZYtYx\n",
              "Ll++THBwMF5eXri6urJkyZJSx1MIIcTfl9WzjoAQQgjxb5aTk4OV1ZOvbvv06cOaNWuwsrJi7969\n",
              "9O/fn5SUlCLbXbx4kVdffZXVq1fj7u5udvhpaWm8/PLLLFiwgLVr1z7BmAshhPi7kJFBIf5BGjZs\n",
              "iIODAxqNhooVKxIdHQ3AhQsX6NGjB23atEGtVrNixQplH5VKRY8ePZS/d+zYgUqlYsOGDUD+qES5\n",
              "cuW4fv06AFlZWdSqVQs/Pz8Abty4Qfv27WnVqhWOjo688cYb5OXlcf/+fTQaDRqNhmrVqlGnTh00\n",
              "Gg29evVS4qrVagGIiooyOOabb76Jm5sbarUaX19f5QE2MjISDw8PXF1dcXFxYc+ePUq8/fz82LVr\n",
              "l/L31KlTCQkJASA6OhqNRqOsGzp0KCqVSvk7MjKSFi1aoNFoaNy4sXJuhfn5+dGoUSPlvGrVqqUc\n",
              "IyQkhL59+9KhQweaN2/Of/7zH27dugVAZmYmw4cPx8nJCScnJ955550iYarVapo0acInn3yirFu0\n",
              "aBGOjo44OzsTEBBAenq6sm7v3r1UrlwZjUZD8+bNadiwodG0+Pnnn3nuuecICQnh4sWLStwrV66s\n",
              "nMuYMWOA/Lxw584do+dekEqlwtnZWQmrYF5LSkrC398ftVqNRqMxuCYl5bXU1FReeeUVnJ2dcXJy\n",
              "YtWqVcq2BfPL3r17Da5RwfMNCQlh0qRJJZ5DcdfrwYMHvPDCC1y5ckXZdtasWUyfPl2Jx+zZs2nb\n",
              "ti316tVj5cqVrF+/Hi8vLxo2bMjmzZuV/Q4ePKjk43bt2nH27FkgPz86OjoyYsQINBoNO3fuJCgo\n",
              "iOHDh9O2bVuaNWvGsGHDuH//vhLWzz//TMeOHWnWrBmvvPIK2dnZJca1V69eSiPT09OTa9eukZOT\n",
              "UyQt1qxZg42NDcOGDcPZ2Zl+/fpx8+ZNADZs2EDv3r2VbX19fZW8tmXLFiwtLZkyZQpqtZrOnTvz\n",
              "66+/KtumpKRgaWmJRqNBrVYr91xKSgp2dnbKdrNnz0alUin3+cmTJ2nbti1qtRp3d3eOHDkCQEBA\n",
              "ABqNhvr161OlShUl/6WmppKRkcHIkSNxd3dHrVYzatQosrOzAcP8sW7dOjw9PZV8HhAQQOvWrVGr\n",
              "1fTo0YMbN24YzS9BQUFKGabRaKhbty5BQUFKGnXo0IFevXrRsmVLgzLLVPoVTgeAGjVqKPuaKiP/\n",
              "inK5OKGhoWg0Glq2bKlcX41Gw759+8jNzWXatGlKWTd+/HjlOkD+fVezZs0iaWjqvtWXS3l5eQwf\n",
              "PpzRo0ej/9C9qTKyoGPHjuHt7Y2LiwtqtZrdu3cr6wqW63Z2dkoal1SWOTs7K8eOjY0FTJf1QvxT\n",
              "SWNQiH+Q3Nxctm7dilarpWXLlsqywYMH8+GHH3LixAl++OEHVq9ebTBlLDMzk4sXLwLw6aef4unp\n",
              "aRCuh4eH8mC+efNmHBwclHV2dnbs2bOHU6dOERcXR0pKCl988QUVKlRAq9Wi1Wrp1asX06ZNQ6vV\n",
              "8uWXXxqE/fDhQ6ZMmYKzs7OybOHChZw+fZq4uDhefPFF1q9fD0CXLl344Ycf+Omnn9i9ezcjR44k\n",
              "KyurVGkUGxvLL7/8YrBs4sSJhIWFodVqWbZsmcn9Q0NDlfMKDAw0WBcTE0NkZCS//PIL9erVY+bM\n",
              "mQDMnz+frKws4uLiOH78OLt27TKYhhcaGkpcXByLFi3is88+A2D//v2sW7eOI0eOEB8fT6VKlZgx\n",
              "Y4ayT25uLh4eHmi1WrZt21ZsfCdOnKikbZMmTZS4t27dWjmXlStXmpFyhmJiYpSw9HkN8h+u+/fv\n",
              "T1xcHFu3bmXEiBFcunRJWW8qr40fPx4HBwfi4+P55ptvePfdd/nhhx9KHbfSnEPh61W+fHlGjBjB\n",
              "p59+CuQ/ZK9fv55x48Yp+929e5ejR4/y7bffMnnyZK5du8axY8fYunUr48ePB/IbtkOGDGHjxo3E\n",
              "xcUxatQo+vXrpzzE/vzzzwQGBqLVaunfvz8Ax48f5+DBg/z888/cvn2b0NBQ5ZharZY9e/bw888/\n",
              "8/vvv7N9+3az4qq3dOlSunfvbnQE8vfffyc1NZWjR48SHx9P48aNmTBhQpHtIiIiuHv3rsF+ycnJ\n",
              "7N+/n7i4OHr37k1AQICyPjc3lypVqqDVajl69KjRa3Dx4kV27dqFra0tANnZ2bzyyiu8/fbbxMXF\n",
              "sWTJEvr27UtmZiYRERFotVrmzZtH+/btlfxXq1YtpkyZgo+PDz/++CNnzpwhLy+PpUuXGhxr3bp1\n",
              "rFmzhoMHDyqNsI8++oiTJ08SFxeHj4+P0rljjL4M02q1BvciwJEjR/jggw84e/YsPXv2ZNSoUSWm\n",
              "n7mMlZHwdMtlUyZPnoxWq2Xfvn3Y2Ngo4XXv3l2pW06dOoVWq+XixYsG+Tg3N5dXX33VaBqakpeX\n",
              "R3BwMNbW1qxcuRKVSlViGal3+/Ztevfuzfvvv8+ZM2fQarX4+PgYxGnp0qVotVr8/f2V5SWVZTEx\n",
              "MSQmJtKhQwd27twJlFzWF5SVlcWff/5p8I9c+TU38fcjjUEh/kHu3r1LhQoVDJadO3eOxMREBg0a\n",
              "hEajoW3btmRkZCijFABjx47l008/JSEhATs7O+rUqWMQRu/evdm3bx8PHz5k7dq1BAcHK+vy8vKY\n",
              "Pn06Li4uuLq6cvLkyRJ7lgtavnw5nTp1olmzZgbLJ0yYQJ06dYiPj1d6j5OTk+nWrRtOTk707t2b\n",
              "27dvk5ycbPax8vLymDRpUpGHRCsrq/yK+DH16NGDF154AYBRo0YRFRUF5Pfqjxw5EgsLCypVqkRg\n",
              "YCCHDh1S9ps8eTKOjo4EBgYqDcioqCgGDhyoPLSOHTvWYJ/09HSqV69uMj47duzA1taW9u3bm30O\n",
              "Pj4+aDQaOnbsWKrrCJCRkcHp06cZMWIEAE2bNsXb25uYmBhlG1N5LSoqitGjRwNQq1YtXnnlFSUN\n",
              "SyMiIgKNRoOLiwuzZ88udrvirte4cePYuHEjWVlZbN26FXd3dxo0aKDsN3DgQADs7e0pX748/fr1\n",
              "A6B169bcvn2bO3fucPz4cZydnZUH+ICAAK5fv861a9cAaNy4Me3atTOIz4ABA7CxscHS0pIRI0YY\n",
              "nHufPn2oWLEilpaWuLu7Kw3qkuIKEB4ezhdffMHq1auNpoNOp2Pw4MFUrVoVyG+UF8xrkN+Inz9/\n",
              "PgsWLDDY7z//+Q/16tUDYPTo0Zw+fZqMjAzAeHlU2OTJk1mwYAHlypUD8ssrCwsLunTpAoC3tzfP\n",
              "P/98iXlx165dLFq0CI1Gg6urKzExMSQlJSnrw8LCGDlyJAsWLKBKlSrK8sjISFq3bo2TkxNr164t\n",
              "dZ7Xa9u2LS1atADy81J0dDS5ubnKemPpB/n3jH5kTaPRGB2ZL66MfFrl8sCBA9FoNLz00kt88803\n",
              "ZqZAvqioKIKCgrC2tsbKyoqRI0ca5CVTecLUfTt69Gi2b9/OBx98oIwwl1RG6h07dgwHBwelAWhh\n",
              "YUG1atVMxsmcsszHx4dGjRqxdetWZXZFSWV9Qe+//z5VqlQx+Jed/JvRbYV4lqQxKMQ/RGZmJn/+\n",
              "+WeRhpxOp6NatWpK761WqyU5OZlhw4Yp23Tp0oWYmBgWLlzI66+/XiRsKysrpRe5SZMmBo2QJUuW\n",
              "kJqayvHjx4mLi2PIkCE8ePDArDjfuHGD1atX8/bbbxdZt2zZMi5fvoyXlxf79u0DYNCgQQQHB5OQ\n",
              "kIBWq6Vy5cpmHwtg5cqVeHp64uLiYrB848aNjBgxAnt7e6MjIo+q4FRUU8tDQ0NJTEzk9OnTjBkz\n",
              "xug5Fd7n/PnzRR76C7p//z5z5swp9Qc99CN+Q4YMUUa5HkfheJeU10zta66AgABlNGr79u0cPny4\n",
              "VHGtU6cOvr6+bNmyhY8//pg33njDYLvy5csr/7e0tFT+VqlUqFQqo1MxC6tcubLZ8TF2TP0xSorr\n",
              "li1beOeddzh06BDPP/+80eMUnqpozLx58wgODqZ27dol7qeP95UrV6hfv36xYe7fvx+dTkfPnj1N\n",
              "HtucfKDT6di+fbtSxp07d85gmvGVK1fYtm0br7/+ujL9NjY2lmXLlrFv3z4SEhJYsmRJqcqT0jCW\n",
              "foDByJpWqy2SpqbKyKdVLm/ZskUZgS1YTzyKwtfOVJ4wdd9Wr16dSZMmmSyfH7W8uHr1qsl8Wlz4\n",
              "MTExJCcnM3/+/GLjZSpOM2fOJD093eDfc41qF7u9EM+KNAaF+IfYuHEjnp6eVKxY0WC5g4MDtra2\n",
              "ylRLyH8X4vbt28rfKpWKESNG8Pvvvxf7vtyoUaP4+uuvizQQ0tLSeOGFFyhfvjw3btxg69atZsd5\n",
              "1qxZzJ49GxsbG4Pl+rjpH7T1PdppaWk0atQIyB/tSEtLM/tYd+7cYdmyZcyfP7/Iurp162Jra8vR\n",
              "o0dLnCZqyr59+/j9998BWLt2rTLlyN/fn88++wydTsfdu3cJCwujc+fORfa3tbUlIyOD7Oxs/P39\n",
              "+eKLL5QRy1WrVin7PHz4kO3bt9O3b99i47Jo0SIGDx5s1kOOMbVq1Sr1FFwbGxvc3NyUvJaUlERs\n",
              "bCy+vr7KNqbymr+/P2vWrAHg5s2b7Nixg06dOj1S/AEqVqxIpUqVij2P4q4X5E+vfeutt7hz547B\n",
              "cnN5enoSHx9PQkICkD+Nr06dOkU6awratm0bmZmZ5Obmsn79erOPW1xcv/jiC2bPnk1UVJTJfNCu\n",
              "XTs2b96sjEp9/PHHdO3aVVmflJTE119/zcSJEw328/X15auvvuLq1atA/ruHbdq0oXLlyuTl5REW\n",
              "FkbHjh2NHjM3N5c333yzyFdSHRwcyMvLU0ZTjh49yo0bNwze+TWmd+/efPDBB0ojOS0tzWBkcNas\n",
              "WfTp04fu3bszZcoUZRsbGxuqV69Odna2QeOxtI4dO6ZMP1+7di3t27fH0tISKD79zFFcGan3NMpl\n",
              "vUcpA/z9/fn888/Jzs4mJyeHtWvXKuXWlStXiI6OLnGmgrH7dsGCBcydO5fz588r52KqjCyobdu2\n",
              "XLhwQRnVy8vLU+qYr776ivLly9O0aVODfcwpy/Ts7OyUd2zNLesBrK2tsbW1NfiH5aM1aIV4muRr\n",
              "okL8AyxatIivvvpKed+sIP2XBCdNmkRoaCi5ubnUqFGDyMhIg+1GjRpl9D0Xveeff16ZWrp3715l\n",
              "+cSJE+nXrx+Ojo68+OKLpXpwrlSpEkOHDi2yPDAwkCtXrpCVlUW9evWULxUuXbqUfv36YWdnR4cO\n",
              "HYo84M6aNYvFixcD+R9nsLCw4OWXXwbg0qVLrFmzhqpVq5KZmansk5qayqBBg4iIiKBWrVpmx90Y\n",
              "Hx8fhgwZwrVr12jatKnyIYI5c+YwYcIEZcpg//79GTBggLLf5MmTCQkJ4cGDB3z44YfY2trSrVs3\n",
              "EhIS8PLywsLCArVarXxcxsfHh3PnzilTkx48eMD169eZO3cu8+bNA+DPP/9k2rRppT6Hbt26YWlp\n",
              "yYMHDx7pZwIiIiIYM2YMK1asQKVSsXbt2iLXqbi8tmzZMsaOHYuzszM6nY633noLDw8PZf1rr71G\n",
              "pUqVSEtL4+rVq3h7ewP5P4swa9Ys5UMdW7du5eTJk9y7dw83NzdlymFhxV0vyG/MValShdGjRz/S\n",
              "iEPNmjWJiIggMDCQnJwcqlatytatW02G1aZNG7p06cLNmzfx8vIy60M4puIaEBDACy+8oNwDAIcP\n",
              "Hy4yvbhPnz7Ex8fj5eVFuXLlaN68ucGHjBITEzl06JAylVPPzc2N//3vf3Tp0gVLS0tefPFFwsPD\n",
              "gfw8Xtw7XJA/k+Hll1+mSZMmBsufe+45duzYwYQJE5gyZQrly5dn27ZtJY6khoaGMmPGDDQaDRYW\n",
              "FlhZWbFw4ULs7e0Ntnv33Xdp27Yte/bsoWvXroSHh+Pg4ED16tXx9/dXpvGWVtu2bZk+fTpJSUlU\n",
              "r16dzz//XFlXXPqZo7gyUu9plMv6+ywzM9MgH5hj1KhRXLx4ETc3NyD/4yyTJk0iOTmZ7t27s2DB\n",
              "giLTXfVKum8tLS2JiIigffv2eHp6miwjC6patSo7d+5kypQpZGRkYGFhwfz587l79y5Llixhy5Yt\n",
              "WFgUHfsoqSzz8fFRGvz6Vw9KKuuF+CdS6fRvuwshxD9MSEgIfn5+xY52Pulj3blz55F+D660/Pz8\n",
              "lK936qWkpBASEmLQoClLevfubfC1v5KUdL2uXbtG69atOX/+fLGjMk9SUFAQGo3G7AZgQX91XIWh\n",
              "DRs2sGvXrlLlPyGMqdylDXaDjI+mC1EaV19bUPJGZpJpokKIf6wOHToo00r/TebOnVtkWc2aNRk7\n",
              "duwziM3fQ8GvWD6uuXPn4uHhwYIFC/72jat/UlyFEEL888jIoBBCCCGEEE+ZjAyKJ0VGBoUQQggh\n",
              "hBBCPBb5gIwQQgghhBBP2ShHH5Y8wREdIZ4EGRkUQgghhBBCiDJIGoNCCCGEEEIIUQZJY1AIIYQQ\n",
              "QgghyiBpDAohhBBCCCFEGSSNQSGEEEIIIYQog6QxKIQQQgghhBBlkPy0hBBCCCGEEE9RVlYW+/fv\n",
              "Jzc3F0tLy2cdnb+t3NxcfvzxR9zd3SWdimFOGjVo0ICJEyeaFZ5Kp9PpnmQEhRBCCCGEEP/vzz//\n",
              "pEqVKqSnp2Nra/uso/O3JelUsiedRjJNVAghhBBCCCHKIGkMCiGEEEIIIUQZJI1BIYQQQgghhCiD\n",
              "pDEohBBCCCHEU2Rtbc3bb7+NtbX1s47K35qkU8medBrJB2SEEEIIIYQQogySkUEhhBBCCCGEKIOk\n",
              "MSiEEEIIIYQQZZA0BoUQQgghhBCiDJLGoBBCCCGEEE/AhQsXaNu2Lc2aNaNNmzYkJiYa3e6zzz6j\n",
              "adOmNGnShJEjR/Lw4cO/OKbPljnpFB0dTYUKFdBoNMq/+/fvP4PYPhsTJkygYcOGqFQqtFptsds9\n",
              "bl6SxqAQQgghhBBPwOjRoxk1ahTnz59n+vTpBAUFFdkmOTmZOXPmEBMTQ1JSEr///jurV6/+6yP7\n",
              "DJmTTgAODg5otVrlX4UKFf7aiD5D/fr1IzY2lgYNGhS7zZPIS9IYFEIIIYQQ4jGlpqZy8uRJhg4d\n",
              "CkDfvn25cuUKSUlJBttt27aNXr168cILL6BSqRgzZgybNm16FlF+JsxNp7LO19eXunXrmtzmSeQl\n",
              "aQwKIYQQQgjxmK5cuULt2rWxsrICQKVSUb9+fS5fvmyw3eXLlw1Gexo2bFhkm38zc9MJ4OLFi7i5\n",
              "udGmTRs++eSTvzqqf3tPIi9ZPelICSGEEEIIIcTjcHNz4+rVq1SpUoWrV6/SvXt3atSowYABA551\n",
              "1P5VZGRQCCGEEEKIx1SvXj1+++03cnJyANDpdFy+fJn69esbbFe/fn0uXbqk/J2SklJkm38zc9PJ\n",
              "1taWKlWqAFC3bl0GDx5MTEzMXx7fv7MnkZekMSiEEEIIIcRjqlWrFm5uboSHhwOwfft26tati729\n",
              "vcF2ffv25csvv+TGjRvodDpWrlzJoEGDnkWUnwlz0+m3334jLy8PgIyMDPbu3Yurq+tfHt+/syeR\n",
              "l6QxKIQQQgghxBOwatUqVq1aRbNmzViwYAHr168HIDg4mC+//BKAxo0b88477/DSSy9hb29PzZo1\n",
              "GT169LOM9l/OnHTavn07zs7OuLi44OnpSadOnXjttdeeZbT/UqNHj6Zu3bpcvXqVLl26KI3lJ52X\n",
              "VDqdTvfEYy+EEEIIIYQQ4m9NRgaFEEIIIYQQogySxqAQQgghhBBClEHSGBRCCCGEEEKIMkgag0II\n",
              "IYQQQghRBkljUAghhBBCCCHKIGkMCiGEEEIIIUQZJI1BIYQQQgghhCiDpDEohBBCCCGEEGWQNAaF\n",
              "EEIIIYQQogySxqAQQgghhBBClEHSGBRCCCGEEEKIMuj/AOI47K1F9zBDAAAAAElFTkSuQmCC\n",
              "\">\n",
              "        \n",
              "      </div>\n",
              "      <script></script>\n",
              "      <script type=\"text/javascript\">\n",
              "        (() => {\n",
              "          const chartElement = document.getElementById(\"chart-9ea3a43d-aba1-4217-a125-7f7477b422e4\");\n",
              "          async function getCodeForChartHandler(event) {\n",
              "            const chartCodeResponse =  await google.colab.kernel.invokeFunction(\n",
              "                'getCodeForChart', [\"chart-9ea3a43d-aba1-4217-a125-7f7477b422e4\"], {});\n",
              "            const responseJson = chartCodeResponse.data['application/json'];\n",
              "            await google.colab.notebook.addCell(responseJson.code, 'code');\n",
              "          }\n",
              "          chartElement.onclick = getCodeForChartHandler;\n",
              "        })();\n",
              "      </script>\n",
              "      <style>\n",
              "        .colab-quickchart-chart-with-code  {\n",
              "            display: block;\n",
              "            float: left;\n",
              "            border: 1px solid transparent;\n",
              "        }\n",
              "\n",
              "        .colab-quickchart-chart-with-code:hover {\n",
              "            cursor: pointer;\n",
              "            border: 1px solid #aaa;\n",
              "        }\n",
              "      </style>"
            ]
          },
          "metadata": {}
        }
      ]
    },
    {
      "cell_type": "code",
      "source": [
        "import pymorphy2\n",
        "morph = pymorphy2.MorphAnalyzer()\n",
        "for_lemma = ['Динамика', 'возобновления', 'роста', 'случаев', 'коронавируса', 'COVID-19', 'в',\n",
        " 'мире', 'является', 'поводом', 'для', 'серьезной', 'обеспокоенности', '–', 'признал',\n",
        " 'преcс-секретарь', 'президента', 'России', 'Дмитрий', 'Песков', '.']\n",
        "for word in for_lemma:\n",
        "    print(word, [p.normal_form for p in morph.parse(word)])"
      ],
      "metadata": {
        "colab": {
          "base_uri": "https://localhost:8080/"
        },
        "id": "30r5tfO7YgYJ",
        "outputId": "24bf2b88-ee67-469a-9077-57d5e0ec93de"
      },
      "execution_count": null,
      "outputs": [
        {
          "output_type": "stream",
          "name": "stdout",
          "text": [
            "Динамика ['динамика', 'динамик']\n",
            "возобновления ['возобновление', 'возобновление', 'возобновление']\n",
            "роста ['рост', 'рост', 'рост']\n",
            "случаев ['случай']\n",
            "коронавируса ['коронавирус']\n",
            "COVID-19 ['covid-19']\n",
            "в ['в', 'в', 'в', 'в', 'в', 'в', 'в', 'в', 'в', 'в', 'в', 'в', 'в']\n",
            "мире ['мир', 'миро']\n",
            "является ['являться']\n",
            "поводом ['повод']\n",
            "для ['для', 'длить']\n",
            "серьезной ['серьёзный', 'серьёзный', 'серьёзный', 'серьёзный']\n",
            "обеспокоенности ['обеспокоенность', 'обеспокоенность', 'обеспокоенность']\n",
            "– ['–']\n",
            "признал ['признать']\n",
            "преcс-секретарь ['преcс-секретарь', 'преcс-секретарь', 'преcс-секретарить']\n",
            "президента ['президент', 'президент']\n",
            "России ['россия', 'россия', 'россия']\n",
            "Дмитрий ['дмитрий', 'дмитрия', 'дмитрия']\n",
            "Песков ['песок', 'песков']\n",
            ". ['.']\n"
          ]
        }
      ]
    },
    {
      "cell_type": "code",
      "source": [
        "import pymorphy2\n",
        "morph = pymorphy2.MorphAnalyzer()\n",
        "\n",
        "text = \"Съешь еще этих мягких французских булок да выпей чаю\"\n",
        "\n",
        "def lemmatize(text):\n",
        "    words = text.split() # разбиваем текст на слова\n",
        "    res = list()\n",
        "    for word in words:\n",
        "        p = morph.parse(word)[0]\n",
        "        res.append(p.normal_form)\n",
        "\n",
        "    return res\n",
        "\n",
        "print(lemmatize(text))"
      ],
      "metadata": {
        "colab": {
          "base_uri": "https://localhost:8080/"
        },
        "id": "oKWiAETtscKF",
        "outputId": "8493a012-1bc5-4252-e24d-899514f9f15f"
      },
      "execution_count": null,
      "outputs": [
        {
          "output_type": "stream",
          "name": "stdout",
          "text": [
            "['съесть', 'ещё', 'этот', 'мягкий', 'французский', 'булка', 'да', 'выпить', 'чай']\n"
          ]
        }
      ]
    },
    {
      "cell_type": "markdown",
      "source": [
        "## Natasha ✅"
      ],
      "metadata": {
        "id": "sdjse-COZNgu"
      }
    },
    {
      "cell_type": "code",
      "source": [
        "!pip install natasha"
      ],
      "metadata": {
        "id": "dpGv0me6c41F"
      },
      "execution_count": null,
      "outputs": []
    },
    {
      "cell_type": "code",
      "source": [
        "from natasha import (\n",
        "    Segmenter,\n",
        "    MorphVocab,\n",
        "\n",
        "    NewsEmbedding,\n",
        "    NewsMorphTagger,\n",
        "    NewsSyntaxParser,\n",
        "    NewsNERTagger,\n",
        "\n",
        "    PER,\n",
        "    NamesExtractor,\n",
        "    DatesExtractor,\n",
        "    MoneyExtractor,\n",
        "    AddrExtractor,\n",
        "\n",
        "    Doc\n",
        ")\n",
        "\n",
        "text = \"Динамика возобновления роста случаев коронавируса COVID-19 в мире является поводом для серьезной обеспокоенности – признал преcс-секретарь президента России Дмитрий Песков.\"\n",
        "\n",
        "segmenter = Segmenter()\n",
        "morph_vocab = MorphVocab()\n",
        "\n",
        "emb = NewsEmbedding()\n",
        "morph_tagger = NewsMorphTagger(emb)\n",
        "syntax_parser = NewsSyntaxParser(emb)\n",
        "ner_tagger = NewsNERTagger(emb)\n",
        "\n",
        "names_extractor = NamesExtractor(morph_vocab)\n",
        "dates_extractor = DatesExtractor(morph_vocab)\n",
        "money_extractor = MoneyExtractor(morph_vocab)\n",
        "addr_extractor = AddrExtractor(morph_vocab)\n",
        "\n",
        "doc = Doc(text)\n",
        "doc.segment(segmenter)\n",
        "doc.tag_morph(morph_tagger)\n",
        "doc.parse_syntax(syntax_parser)\n",
        "doc.tag_ner(ner_tagger)\n",
        "\n",
        "for token in doc.tokens:\n",
        "    token.lemmatize(morph_vocab)\n",
        "\n",
        "display({_.text: _.lemma for _ in doc.tokens})\n",
        "\n",
        "for span in doc.spans:\n",
        "    span.normalize(morph_vocab)\n",
        "\n",
        "display({_.text: _.normal for _ in doc.spans})"
      ],
      "metadata": {
        "colab": {
          "base_uri": "https://localhost:8080/",
          "height": 433
        },
        "id": "mPBbWyJoZR0-",
        "outputId": "36f81d56-cadd-461d-9737-1fb7d232148a"
      },
      "execution_count": null,
      "outputs": [
        {
          "output_type": "display_data",
          "data": {
            "text/plain": [
              "{'Динамика': 'динамика',\n",
              " 'возобновления': 'возобновление',\n",
              " 'роста': 'рост',\n",
              " 'случаев': 'случай',\n",
              " 'коронавируса': 'коронавирус',\n",
              " 'COVID-19': 'covid-19',\n",
              " 'в': 'в',\n",
              " 'мире': 'мир',\n",
              " 'является': 'являться',\n",
              " 'поводом': 'повод',\n",
              " 'для': 'для',\n",
              " 'серьезной': 'серьезный',\n",
              " 'обеспокоенности': 'обеспокоенность',\n",
              " '–': '–',\n",
              " 'признал': 'признать',\n",
              " 'пре': 'пре',\n",
              " 'c': 'c',\n",
              " 'с-секретарь': 'с-секретарь',\n",
              " 'президента': 'президент',\n",
              " 'России': 'россия',\n",
              " 'Дмитрий': 'дмитрий',\n",
              " 'Песков': 'песков',\n",
              " '.': '.'}"
            ]
          },
          "metadata": {}
        },
        {
          "output_type": "display_data",
          "data": {
            "text/plain": [
              "{'России': 'Россия', 'Дмитрий Песков': 'Дмитрий Песков'}"
            ]
          },
          "metadata": {}
        }
      ]
    },
    {
      "cell_type": "markdown",
      "source": [
        "## Snowball ❔"
      ],
      "metadata": {
        "id": "SM84D77mf0qR"
      }
    },
    {
      "cell_type": "code",
      "source": [
        "#СТЕММИНГ\n",
        "from nltk.stem import SnowballStemmer # Create a Snowball Stemmer object for English stemmer = SnowballStemmer(language='english')\n",
        "# stemmer = SnowballStemmer(language='english')\n",
        "stemmer = SnowballStemmer(language='russian')\n",
        "\n",
        "# Define a list of words to be stemmed words = ['running', 'ran', 'runs']\n",
        "# words = ['running', 'ran', 'runs']\n",
        "words = ['ёжика', 'сожрали', 'хитрые', 'Артёмы', 'уволили']\n",
        "stemmed_words = []\n",
        "\n",
        "# Iterate over each word and stem it using Snowball Stemmer stemmed_words = []\n",
        "for word in words:\n",
        "  stemmed_word = stemmer.stem(word)\n",
        "  stemmed_words.append(stemmed_word)\n",
        "\n",
        "# Print the original words and their stemmed forms\n",
        "for i in range(len(words)):\n",
        "   print(f'Original Word: {words[i]}, Stemmed Word: {stemmed_words[i]}')"
      ],
      "metadata": {
        "colab": {
          "base_uri": "https://localhost:8080/"
        },
        "id": "ph0QVG5HfztE",
        "outputId": "d8082f54-580a-4498-9ea8-6ccb64d62f43"
      },
      "execution_count": null,
      "outputs": [
        {
          "output_type": "stream",
          "name": "stdout",
          "text": [
            "Original Word: ёжика, Stemmed Word: ежик\n",
            "Original Word: сожрали, Stemmed Word: сожра\n",
            "Original Word: хитрые, Stemmed Word: хитр\n",
            "Original Word: Артёмы, Stemmed Word: артем\n",
            "Original Word: уволили, Stemmed Word: увол\n"
          ]
        }
      ]
    },
    {
      "cell_type": "markdown",
      "source": [
        "## PyMystem3 ✅"
      ],
      "metadata": {
        "id": "k_BWPk5osRkN"
      }
    },
    {
      "cell_type": "code",
      "source": [
        "!pip install pymystem3"
      ],
      "metadata": {
        "id": "q6cPWb8RsUjn"
      },
      "execution_count": null,
      "outputs": []
    },
    {
      "cell_type": "code",
      "source": [
        "from pymystem3 import Mystem\n",
        "m = Mystem()\n",
        "def lemmatize_sentence(text):\n",
        "    lemmas = m.lemmatize(text)\n",
        "    return \"\".join(lemmas).strip()\n",
        "\n",
        "text = \"ёжики ушли на охоту за ужиками на Ивантеевской улице и встретили заместителя\"\n",
        "print(lemmatize_sentence(text))"
      ],
      "metadata": {
        "colab": {
          "base_uri": "https://localhost:8080/"
        },
        "id": "Y7dDXiHeshnh",
        "outputId": "e85003ae-5821-4dc0-abcf-4810a44d8ea3"
      },
      "execution_count": null,
      "outputs": [
        {
          "output_type": "stream",
          "name": "stdout",
          "text": [
            "ежик уходить на охота за ужик на ивантеевский улица и встречать заместитель\n"
          ]
        }
      ]
    }
  ]
}